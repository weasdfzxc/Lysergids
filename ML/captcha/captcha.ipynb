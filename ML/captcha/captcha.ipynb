{
 "cells": [
  {
   "cell_type": "markdown",
   "metadata": {},
   "source": [
    "# CAPTCHA Identification Using CNN\n",
    "The text in the document by < Zhixin Wang, Jiamin Shang > is licensed under CC BY 3.0 https://creativecommons.org/licenses/by/3.0/us/<br>\n",
    "The code in the document by < Zhixin Wang, Jiamin Shang > is licensed under the MIT License https://opensource.org/licenses/MIT"
   ]
  },
  {
   "cell_type": "markdown",
   "metadata": {},
   "source": [
    "This study attempts to identify different forms of captcha. Our dataset has two categories, one is popular digital CAPTCHA, the other is picture CAPACHA. The ultimate goal is to make our model can identify the content correctly when given a certain type of captcha. Grey process, size normalization will be conducted on the raw data, we used convolutional neural network as our training model and identified test CAPTCHA by the model we generated. Our test data indicated that CNN model has a good performance, the accuracy is over 90%."
   ]
  },
  {
   "cell_type": "markdown",
   "metadata": {},
   "source": [
    "## Motivation & Background\n",
    "Image processing techniques have been applied increasingly is recent years. Self driving would\n",
    "be the representative one, autos can deal with different scenarios because they have already\n",
    "been training after learning different patterns, what is a signal, how to judge if another vehicle\n",
    "is too close to hit you. So we want to know the performance of image recognition, how\n",
    "accurate it can be, how sensitive it could be to different images. In addition, our project can let\n",
    "us understand how machine learning techniques help build the architecture of image\n",
    "recognition."
   ]
  },
  {
   "cell_type": "markdown",
   "metadata": {},
   "source": [
    "## Algorithm CNN\n",
    "Convolutional neural network is very similar to the ordinary Deep Neural Network, they are made up of neurons that have learnable weights and biases. Each neuron receives some inputs, and produces non-linearity output. And they still have a loss function on the last (fully-connected) layer and all the tips/tricks we developed for learning regular Neural Networks still apply. \n",
    "<img src=\"./data/img/cnn1.jpg\" width=\"100%\">\n",
    "The whole network is different at ConvNet and MaxPoolNet, which is designed for input that have too many dimensions,30\\*30 image would have 30\\*30\\*3 dimensions input. ConvNet would use a small local receptive field to scan the input which is be able to reduce the dimensions to save time and resource to train our model. And MaxPoolNet is like to calculate the value from the feature map that we got from last layer, the method maybe the maximum value of ConvNet output or average value of it.\n",
    "<img src=\"./data/img/cnn2.jpg\" width=\"100%\">"
   ]
  },
  {
   "cell_type": "markdown",
   "metadata": {},
   "source": [
    "## Install the library by anaconda or pip\n",
    "## Install the openCV(cv2)\n",
    "### If pip works\n",
    "    * pip install opencv-python\n",
    "### if pip not work, For Windows\n",
    "    * Goto https://www.lfd.uci.edu/~gohlke/pythonlibs/ download the suitable version\n",
    "    * I use opencv_python‑3.4.1‑cp36‑cp36m‑win_amd64.whl\n",
    "    * Goto the folder the whl put, use command pip install opencv_python‑3.4.1‑cp36‑cp36m‑win_amd64.whl\n",
    "### if pip not work, For Mac\n",
    "    * conda install -c conda-forge opencv"
   ]
  },
  {
   "cell_type": "code",
   "execution_count": 23,
   "metadata": {},
   "outputs": [],
   "source": [
    "import urllib3\n",
    "import unicodedata\n",
    "import datetime\n",
    "import os\n",
    "import numpy as np\n",
    "import cv2\n",
    "from bs4 import BeautifulSoup, SoupStrainer, Comment\n",
    "import matplotlib.pyplot as plt\n",
    "import warnings\n",
    "import requests\n",
    "import random\n",
    "import tensorflow as tf\n",
    "import pandas as pd\n",
    "from sklearn.cross_validation import train_test_split\n",
    "import sys\n",
    "warnings.filterwarnings('ignore')"
   ]
  },
  {
   "cell_type": "markdown",
   "metadata": {},
   "source": [
    "### Define method to download digital captcha from website\n",
    "We use urllib3 to get the response and extract the image data"
   ]
  },
  {
   "cell_type": "code",
   "execution_count": 2,
   "metadata": {},
   "outputs": [],
   "source": [
    "def downloads_pic():\n",
    "\n",
    "    urls='http://health.sxws.gov.cn/yypt/login_code.html?r=15208203772030.5898448258753444'\n",
    "    http = urllib3.PoolManager()\n",
    "    response = http.request('GET',urls)\n",
    "    with open('./data/origindown/'+str(random.randint(00000000,99999999))+'.bmp', 'wb') as f:\n",
    "        f.write(response.data)\n",
    "        f.flush()\n",
    "        f.close()"
   ]
  },
  {
   "cell_type": "markdown",
   "metadata": {},
   "source": [
    "### Define read_img method\n",
    "    * to read image set from disk \n",
    "    * resize the images \n",
    "    * convert images to grayscale images\n",
    "    * convert grayscale images to black-white binary image (reduce noise)\n",
    "    * split one number captcha into 4 individual digital images\n",
    "    * add these 4 child images to input list\n",
    "    * return image list"
   ]
  },
  {
   "cell_type": "code",
   "execution_count": 3,
   "metadata": {},
   "outputs": [],
   "source": [
    "def read_img(path_name,trigger):\n",
    "    images = []\n",
    "    for dir_item in os.listdir(path_name):\n",
    "        \n",
    "        full_path = os.path.abspath(os.path.join(path_name, dir_item))\n",
    "        \n",
    "        if os.path.isdir(full_path): \n",
    "            read_path(full_path)\n",
    "        else:   \n",
    "            if dir_item.endswith('.bmp'):\n",
    "                image = cv2.imread(full_path)\n",
    "                image = cv2.resize(image, (70, 16), interpolation=cv2.INTER_NEAREST)\n",
    "                \n",
    "                image = cv2.cvtColor(image, cv2.COLOR_BGR2GRAY );\n",
    "                ret,image=cv2.threshold(image,127,255,cv2.THRESH_BINARY) \n",
    "                \n",
    "                imagex1 = []\n",
    "                imagex2 = []\n",
    "                imagex3 = []\n",
    "                imagex4 = []\n",
    "                image1 = image[0:16,4:20]\n",
    "                image2 = image[0:16,20:36]\n",
    "                image3 = image[0:16,35:51]\n",
    "                image4 = image[0:16,51:67]\n",
    "                if trigger == 1:\n",
    "                    cv2.imwrite('./data/down/'+str(random.randint(00000000,99999999))+'.png',image1)\n",
    "                    cv2.imwrite('./data/down/'+str(random.randint(00000000,99999999))+'.png',image2)\n",
    "                    cv2.imwrite('./data/down/'+str(random.randint(00000000,99999999))+'.png',image3)\n",
    "                    cv2.imwrite('./data/down/'+str(random.randint(00000000,99999999))+'.png',image4)\n",
    "                for img in image1:\n",
    "                    imagex1.extend(img)\n",
    "                for img in image2:\n",
    "                    imagex2.extend(img)\n",
    "                for img in image3:\n",
    "                    imagex3.extend(img)\n",
    "                for img in image4:\n",
    "                    imagex4.extend(img)\n",
    "                images.append(imagex1)\n",
    "                images.append(imagex2)\n",
    "                images.append(imagex3)\n",
    "                images.append(imagex4)                              \n",
    "                    \n",
    "    return images"
   ]
  },
  {
   "cell_type": "markdown",
   "metadata": {},
   "source": [
    "### Download digital captcha and split them into 4 individual digital images"
   ]
  },
  {
   "cell_type": "code",
   "execution_count": 5,
   "metadata": {},
   "outputs": [],
   "source": [
    "download_quantity = 1\n",
    "for i in range(download_quantity):\n",
    "    downloads_pic()"
   ]
  },
  {
   "cell_type": "code",
   "execution_count": null,
   "metadata": {},
   "outputs": [],
   "source": [
    "process_captcha = np.array(read_img(\"./data/origindown\",1))"
   ]
  },
  {
   "cell_type": "markdown",
   "metadata": {},
   "source": [
    "### Define read_path method\n",
    "    * to read image set from disk \n",
    "    * resize the images \n",
    "    * convert images to grayscale images\n",
    "    * return image and category label list"
   ]
  },
  {
   "cell_type": "code",
   "execution_count": 6,
   "metadata": {},
   "outputs": [],
   "source": [
    "def read_path(path_name,IMAGE_SIZE):\n",
    "    images = []\n",
    "    labels = []\n",
    "    for dir_item in os.listdir(path_name):\n",
    "        \n",
    "        full_path = os.path.abspath(os.path.join(path_name, dir_item))\n",
    "        \n",
    "        if os.path.isdir(full_path):\n",
    "            read_path(full_path)\n",
    "        else:   \n",
    "            if dir_item.endswith('.png') or dir_item.endswith('.jpg'):\n",
    "                image = cv2.imread(full_path)\n",
    "                image = cv2.resize(image, (IMAGE_SIZE, IMAGE_SIZE), interpolation=cv2.INTER_NEAREST)\n",
    "                \n",
    "                image = cv2.cvtColor(image, cv2.COLOR_BGR2GRAY );\n",
    "                \n",
    "                imagex = []\n",
    "                for img in image:\n",
    "                    imagex.extend(img)\n",
    "                images.append(imagex)                \n",
    "                labels.append(path_name)                                \n",
    "                    \n",
    "    return images,labels"
   ]
  },
  {
   "cell_type": "markdown",
   "metadata": {},
   "source": [
    "### Define initialization method\n",
    "    * weight and bias for every layer\n",
    "    * ConvNet \n",
    "    * MaxpoolNet \n",
    "### this part will be used to build network\n",
    "Then we defined the parameters that used for the training of neural network, and the ConvNet and MaxpoolNet function, we will use a 2*2 receptive field to scan the whole 16 dimensions  input and the stride is 1,  then we take the maximum value of receptive field before we send it to the activation function."
   ]
  },
  {
   "cell_type": "code",
   "execution_count": 7,
   "metadata": {},
   "outputs": [],
   "source": [
    "def weight_variable(shape,stddev):\n",
    "    initial = tf.truncated_normal(shape, stddev=stddev) # 变量的初始值为截断正太分布\n",
    "    return tf.Variable(initial)\n",
    "\n",
    "def bias_variable(shape,stddev):\n",
    "    initial = tf.constant(stddev, shape=shape)\n",
    "    return tf.Variable(initial)\n",
    "\n",
    "def conv2d(x, W):\n",
    "    \"\"\"\n",
    "    we will use a 2*2 receptive field to scan the whole 256 dimensions, input and the stride is 1\n",
    "    \"\"\"\n",
    "    return tf.nn.conv2d(x, W, strides=[1, 1, 1, 1], padding='SAME')\n",
    "\n",
    "def max_pool_2x2(x):\n",
    "    \"\"\"\n",
    "    we take the maximum value of receptive field before we send it to the activation function.\n",
    "    \"\"\"\n",
    "    return tf.nn.max_pool(x, ksize=[1, 2, 2, 1],\n",
    "                          strides=[1, 2, 2, 1], padding='SAME')  "
   ]
  },
  {
   "cell_type": "markdown",
   "metadata": {},
   "source": [
    "## Build the neural network\n",
    "### Initialize the placeholder\n",
    "    * inputdata\n",
    "    * outputdata\n",
    "    * dropout variable to avoid the overfitting situation\n",
    "### Implement layers\n",
    "    * three hidden layers\n",
    "    * Softmax as the classification activation function\n",
    "The third part of our work is to build the architecture of our neural network. We implemented\n",
    "three hidden layers in the network, for example, in the first hidden layer, we used 8*8 patch to\n",
    "calculate 32 features, 1 means the input channel and 32 means the output channel, 0.01 is the\n",
    "parameter for the initialization of weights. In addition, we set the dropout variable to avoid the\n",
    "overfitting situation."
   ]
  },
  {
   "cell_type": "code",
   "execution_count": 8,
   "metadata": {},
   "outputs": [],
   "source": [
    "g1 = tf.Graph()\n",
    "g2 = tf.Graph()"
   ]
  },
  {
   "cell_type": "markdown",
   "metadata": {},
   "source": [
    "### For picture indentify model"
   ]
  },
  {
   "cell_type": "code",
   "execution_count": 9,
   "metadata": {},
   "outputs": [],
   "source": [
    "with g1.as_default():\n",
    "    X = tf.placeholder(\"float\", [None, 1600])\n",
    "    Y = tf.placeholder(\"float\", [None, 6])\n",
    "\n",
    "    x_image = tf.reshape(X, [-1,40,40,1])\n",
    "\n",
    "    W_conv1 = weight_variable([8, 8, 1, 32],0.01)  \n",
    "    # we used 2*2 patch to calculate 6 features, 1 means the input channel and 6 means the output channel\n",
    "    # 0.01 is the parameter for the initialization of weights\n",
    "    b_conv1 = bias_variable([32],0.01)\n",
    "    h_conv1 = tf.nn.elu(conv2d(x_image, W_conv1) + b_conv1)\n",
    "    h_pool1 = max_pool_2x2(h_conv1)\n",
    "\n",
    "    W_conv2 = weight_variable([8, 8, 32, 64],0.01)\n",
    "    b_conv2 = bias_variable([64],0.01)\n",
    "    h_conv2 = tf.nn.elu(conv2d(h_pool1, W_conv2) + b_conv2)\n",
    "    h_pool2 = max_pool_2x2(h_conv2)\n",
    "\n",
    "    W_conv3 = weight_variable([8, 8, 64, 64],0.01)\n",
    "    b_conv3 = bias_variable([64],0.01)\n",
    "    h_conv3 = tf.nn.elu(conv2d(h_pool2, W_conv3) + b_conv3)\n",
    "    h_pool3 = max_pool_2x2(h_conv2)\n",
    "\n",
    "    W_fc1 = weight_variable([10 * 10 * 64, 1024],0.01)\n",
    "    b_fc1 = bias_variable([1024],0.01)\n",
    "    h_pool2_flat = tf.reshape(h_pool3, [-1, 10*10*64])\n",
    "    h_fc1 = tf.nn.elu(tf.matmul(h_pool2_flat, W_fc1) + b_fc1)\n",
    "\n",
    "    keep_prob = tf.placeholder(tf.float32) \n",
    "    # we set the dropout variable to avoid the overfitting situation\n",
    "    h_fc1_drop = tf.nn.dropout(h_fc1, keep_prob)\n",
    "\n",
    "    W_fc2 = weight_variable([1024, 6],0.01)\n",
    "    b_fc2 = bias_variable([6],0.01)\n",
    "\n",
    "    y_conv=tf.nn.softmax(tf.matmul(h_fc1_drop, W_fc2) + b_fc2)"
   ]
  },
  {
   "cell_type": "markdown",
   "metadata": {},
   "source": [
    "### For digital captcha indentify model"
   ]
  },
  {
   "cell_type": "code",
   "execution_count": 10,
   "metadata": {},
   "outputs": [],
   "source": [
    "with g2.as_default():\n",
    "    DX = tf.placeholder(\"float\", [None, 256])\n",
    "    DY = tf.placeholder(\"float\", [None, 10])\n",
    "\n",
    "    Dx_image = tf.reshape(DX, [-1,16,16,1])\n",
    "\n",
    "    DW_conv1 = weight_variable([4, 4, 1, 8],0.01) \n",
    "    # we used 2*2 patch to calculate 6 features, 1 means the input channel and 6 means the output channel\n",
    "    # 0.01 is the parameter for the initialization of weights\n",
    "    Db_conv1 = bias_variable([8],0.01)\n",
    "    Dh_conv1 = tf.nn.elu(conv2d(Dx_image, DW_conv1) + Db_conv1)\n",
    "    Dh_pool1 = max_pool_2x2(Dh_conv1)\n",
    "\n",
    "    DW_conv2 = weight_variable([4, 4, 8, 16],0.01)\n",
    "    Db_conv2 = bias_variable([16],0.01)\n",
    "    Dh_conv2 = tf.nn.elu(conv2d(Dh_pool1, DW_conv2) + Db_conv2)\n",
    "    Dh_pool2 = max_pool_2x2(Dh_conv2)\n",
    "\n",
    "    DW_conv3 = weight_variable([4, 4, 16, 16],0.01)\n",
    "    Db_conv3 = bias_variable([16],0.01)\n",
    "    Dh_conv3 = tf.nn.elu(conv2d(Dh_pool2, DW_conv3) + Db_conv3)\n",
    "    Dh_pool3 = max_pool_2x2(Dh_conv2)\n",
    "\n",
    "    DW_fc1 = weight_variable([4 * 4 * 16, 64],0.01)\n",
    "    Db_fc1 = bias_variable([64],0.01)\n",
    "    Dh_pool2_flat = tf.reshape(Dh_pool3, [-1, 4*4*16])\n",
    "    Dh_fc1 = tf.nn.elu(tf.matmul(Dh_pool2_flat, DW_fc1) + Db_fc1)\n",
    "\n",
    "    Dkeep_prob = tf.placeholder(tf.float32) \n",
    "    # we set the dropout variable to avoid the overfitting situation\n",
    "    Dh_fc1_drop = tf.nn.dropout(Dh_fc1, Dkeep_prob)\n",
    "\n",
    "    DW_fc2 = weight_variable([64, 10],0.01)\n",
    "    Db_fc2 = bias_variable([10],0.01)\n",
    "\n",
    "    Dy_conv=tf.nn.softmax(tf.matmul(Dh_fc1_drop, DW_fc2) + Db_fc2)"
   ]
  },
  {
   "cell_type": "markdown",
   "metadata": {},
   "source": [
    "### Define the model\n",
    "    * Cross entropy as the loss function\n",
    "    * AdmaOptimizer as the gradient estimation function\n",
    "    * define correct_prediction to calculate the accuracy\n",
    "    * define prediction to predict the voice's gender"
   ]
  },
  {
   "cell_type": "markdown",
   "metadata": {},
   "source": [
    "### For picture indentify model\n",
    "In the fourth part, we used Softmax as the classification activation function, cross entropy as\n",
    "the loss function , AdmaOptimizer as the gradient estimation function and built a function to\n",
    "record the accuracy of our training model."
   ]
  },
  {
   "cell_type": "code",
   "execution_count": 11,
   "metadata": {},
   "outputs": [],
   "source": [
    "with g1.as_default():\n",
    "    cross_entropy = tf.reduce_mean(-tf.reduce_sum(Y * tf.log(y_conv), reduction_indices=[1]))\n",
    "    train_step = tf.train.AdamOptimizer(1e-4).minimize(cross_entropy)\n",
    "    correct_prediction = tf.equal(tf.argmax(y_conv,1), tf.argmax(Y,1)) \n",
    "    accuracy = tf.reduce_mean(tf.cast(correct_prediction, tf.float32))\n",
    "    prediction = tf.argmax(y_conv,1)"
   ]
  },
  {
   "cell_type": "markdown",
   "metadata": {},
   "source": [
    "### For digital captcha indentify model"
   ]
  },
  {
   "cell_type": "code",
   "execution_count": 12,
   "metadata": {},
   "outputs": [],
   "source": [
    "with g2.as_default():    \n",
    "    Dcross_entropy = tf.reduce_mean(-tf.reduce_sum(DY * tf.log(Dy_conv), reduction_indices=[1]))\n",
    "    Dtrain_step = tf.train.AdamOptimizer(1e-4).minimize(Dcross_entropy)\n",
    "    Dcorrect_prediction = tf.equal(tf.argmax(Dy_conv,1), tf.argmax(DY,1)) \n",
    "    Daccuracy = tf.reduce_mean(tf.cast(Dcorrect_prediction, tf.float32))\n",
    "    Dprediction = tf.argmax(Dy_conv,1)"
   ]
  },
  {
   "cell_type": "markdown",
   "metadata": {},
   "source": [
    "### Define load_dataset method\n",
    "    * Invoke read_path method \n",
    "    * Map category label to 0,1 set label \n",
    "    * return image and 0,1 label list"
   ]
  },
  {
   "cell_type": "code",
   "execution_count": 13,
   "metadata": {},
   "outputs": [],
   "source": [
    "def load_dataset(path_name, input_type):\n",
    "    images = []\n",
    "    labels = []\n",
    "    result = []\n",
    "    if input_type.endswith('picture'):\n",
    "        images,labels = read_path(path_name,40)\n",
    "        for label in labels:\n",
    "            if label.endswith('camera'):\n",
    "                result.append([1,0,0,0,0,0,])\n",
    "            elif label.endswith('lotus'):\n",
    "                result.append([0,1,0,0,0,0])\n",
    "            elif label.endswith('watch'):\n",
    "                result.append([0,0,1,0,0,0])\n",
    "            elif label.endswith('umbrella'):\n",
    "                result.append([0,0,0,1,0,0])\n",
    "            elif label.endswith('sunflower'):\n",
    "                result.append([0,0,0,0,1,0])\n",
    "            elif label.endswith('scissors'):\n",
    "                result.append([0,0,0,0,0,1])\n",
    "    elif input_type.endswith('digital'):\n",
    "        images,labels = read_path(path_name,16)\n",
    "        for label in labels:\n",
    "            if label.endswith('0'):\n",
    "                result.append([1,0,0,0,0,0,0,0,0,0])\n",
    "            elif label.endswith('1'):\n",
    "                result.append([0,1,0,0,0,0,0,0,0,0])\n",
    "            elif label.endswith('2'):\n",
    "                result.append([0,0,1,0,0,0,0,0,0,0])\n",
    "            elif label.endswith('3'):\n",
    "                result.append([0,0,0,1,0,0,0,0,0,0])\n",
    "            elif label.endswith('4'):\n",
    "                result.append([0,0,0,0,1,0,0,0,0,0])\n",
    "            elif label.endswith('5'):\n",
    "                result.append([0,0,0,0,0,1,0,0,0,0])\n",
    "            elif label.endswith('6'):\n",
    "                result.append([0,0,0,0,0,0,1,0,0,0])\n",
    "            elif label.endswith('7'):\n",
    "                result.append([0,0,0,0,0,0,0,1,0,0])\n",
    "            elif label.endswith('8'):\n",
    "                result.append([0,0,0,0,0,0,0,0,1,0])\n",
    "            elif label.endswith('9'):\n",
    "                result.append([0,0,0,0,0,0,0,0,0,1])\n",
    "    return images, result"
   ]
  },
  {
   "cell_type": "markdown",
   "metadata": {},
   "source": [
    "### Define outputres method\n",
    "    * Convert results back to category label \n",
    "    * return category result list"
   ]
  },
  {
   "cell_type": "code",
   "execution_count": 14,
   "metadata": {},
   "outputs": [],
   "source": [
    "def outputres(reslist):\n",
    "    #labels = [[0,1] if label.endswith('camera') else [1,0] for label in labels]\n",
    "    result = []\n",
    "    for res in reslist:\n",
    "        if res == 0:\n",
    "            result.append('camera')\n",
    "        elif res == 1:\n",
    "            result.append('lotus')\n",
    "        elif res == 2:\n",
    "            result.append('watch')\n",
    "        elif res == 3:\n",
    "            result.append('umbrella')\n",
    "        elif res == 4:\n",
    "            result.append('sunflower')\n",
    "        elif res == 5:\n",
    "            result.append('scissors')\n",
    "            \n",
    "    return result"
   ]
  },
  {
   "cell_type": "markdown",
   "metadata": {},
   "source": [
    "### Load Dataset and Data preprocess\n",
    "This step is to load dataset, our dataset contains digital captcha and picture captcha, which\n",
    "would have a little bit different in data preprocessing. In the digital captcha part, we would\n",
    "segment the four-digital captcha into four parts and the label would 0~9, for the picture\n",
    "captcha, we would just label them with the category they belong to."
   ]
  },
  {
   "cell_type": "code",
   "execution_count": 15,
   "metadata": {},
   "outputs": [],
   "source": [
    "images, labels = load_dataset(\"./data/ObjectCategories/camera\",\"picture\")\n",
    "imagesx, labelsx = load_dataset(\"./data/ObjectCategories/lotus\",\"picture\")\n",
    "images.extend(imagesx)\n",
    "labels.extend(labelsx)\n",
    "imagesx, labelsx = load_dataset(\"./data/ObjectCategories/watch\",\"picture\")\n",
    "images.extend(imagesx)\n",
    "labels.extend(labelsx)\n",
    "imagesx, labelsx = load_dataset(\"./data/ObjectCategories/umbrella\",\"picture\")\n",
    "images.extend(imagesx)\n",
    "labels.extend(labelsx)\n",
    "imagesx, labelsx = load_dataset(\"./data/ObjectCategories/sunflower\",\"picture\")\n",
    "images.extend(imagesx)\n",
    "labels.extend(labelsx)\n",
    "imagesx, labelsx = load_dataset(\"./data/ObjectCategories/scissors\",\"picture\")\n",
    "images.extend(imagesx)\n",
    "labels.extend(labelsx)\n",
    "\n",
    "digitals, dlabels = load_dataset(\"./data/down/0\",\"digital\")\n",
    "digitalsx, dlabelsx = load_dataset(\"./data/down/1\",\"digital\")\n",
    "digitals.extend(digitalsx)\n",
    "dlabels.extend(dlabelsx)\n",
    "digitalsx, dlabelsx = load_dataset(\"./data/down/2\",\"digital\")\n",
    "digitals.extend(digitalsx)\n",
    "dlabels.extend(dlabelsx)\n",
    "digitalsx, dlabelsx = load_dataset(\"./data/down/3\",\"digital\")\n",
    "digitals.extend(digitalsx)\n",
    "dlabels.extend(dlabelsx)\n",
    "digitalsx, dlabelsx = load_dataset(\"./data/down/4\",\"digital\")\n",
    "digitals.extend(digitalsx)\n",
    "dlabels.extend(dlabelsx)\n",
    "digitalsx, dlabelsx = load_dataset(\"./data/down/5\",\"digital\")\n",
    "digitals.extend(digitalsx)\n",
    "dlabels.extend(dlabelsx)\n",
    "digitalsx, dlabelsx = load_dataset(\"./data/down/6\",\"digital\")\n",
    "digitals.extend(digitalsx)\n",
    "dlabels.extend(dlabelsx)\n",
    "digitalsx, dlabelsx = load_dataset(\"./data/down/7\",\"digital\")\n",
    "digitals.extend(digitalsx)\n",
    "dlabels.extend(dlabelsx)\n",
    "digitalsx, dlabelsx = load_dataset(\"./data/down/8\",\"digital\")\n",
    "digitals.extend(digitalsx)\n",
    "dlabels.extend(dlabelsx)\n",
    "digitalsx, dlabelsx = load_dataset(\"./data/down/9\",\"digital\")\n",
    "digitals.extend(digitalsx)\n",
    "dlabels.extend(dlabelsx)\n",
    "digitals = np.array(digitals)\n",
    "dlabels = np.array(dlabels)"
   ]
  },
  {
   "cell_type": "code",
   "execution_count": 16,
   "metadata": {},
   "outputs": [],
   "source": [
    "train_images, valid_images, train_labels, valid_labels = train_test_split(images, labels, test_size = 0.1, random_state = random.randint(0, 100)) \n",
    "train_digitals, valid_digitals, train_dlabels, valid_dlabels = train_test_split(digitals, dlabels, test_size = 0.1, random_state = random.randint(0, 100)) "
   ]
  },
  {
   "cell_type": "code",
   "execution_count": 17,
   "metadata": {},
   "outputs": [],
   "source": [
    "training_epochs_image = 61\n",
    "training_epochs_digital = 21"
   ]
  },
  {
   "cell_type": "markdown",
   "metadata": {},
   "source": [
    "### Initialize tensorflow train model\n",
    "    * start a tensorflow session\n",
    "    * Initialize all tensorflow variables\n",
    "    * run the train model and record the accuracy\n",
    "Finally , the main function is to launch the project work and get the output of our program,\n",
    "predict fucntion reflects the fact that when digital captcha and picture captcha go through the\n",
    "training model, whether our model can show the content of captcha correctly."
   ]
  },
  {
   "cell_type": "code",
   "execution_count": 18,
   "metadata": {},
   "outputs": [],
   "source": [
    "sess1 = tf.Session(graph=g1)\n",
    "with g1.as_default():\n",
    "    init1 = tf.global_variables_initializer()\n",
    "    init1.run(session=sess1)\n",
    "sess2 = tf.Session(graph=g2)\n",
    "with g2.as_default():\n",
    "    init2 = tf.global_variables_initializer()\n",
    "    init2.run(session=sess2)\n",
    "picepoch = []\n",
    "picaccuracy = []\n",
    "digitalepoch = []\n",
    "digitalaccuracy = []"
   ]
  },
  {
   "cell_type": "markdown",
   "metadata": {},
   "source": [
    "### For picture indentify model"
   ]
  },
  {
   "cell_type": "code",
   "execution_count": 19,
   "metadata": {},
   "outputs": [],
   "source": [
    "for i in range(training_epochs_image):\n",
    "    for start, end in zip(range(0, len(train_images), 30), range(30, len(train_images), 30)):\n",
    "        train_step.run(session=sess1,feed_dict={X: train_images[start:end], Y: train_labels[start:end], keep_prob: 0.5})\n",
    "        \n",
    "    picepoch.append(i)\n",
    "    picaccuracy.append(accuracy.eval(session=sess1,feed_dict={X: valid_images, Y: valid_labels, keep_prob: 1.0}))\n"
   ]
  },
  {
   "cell_type": "markdown",
   "metadata": {},
   "source": [
    "### For digital captcha indentify model"
   ]
  },
  {
   "cell_type": "code",
   "execution_count": 20,
   "metadata": {},
   "outputs": [],
   "source": [
    "for i in range(training_epochs_digital):\n",
    "    for start, end in zip(range(0, len(train_digitals), 30), range(30, len(train_digitals), 30)):\n",
    "        Dtrain_step.run(session=sess2,feed_dict={DX: train_digitals[start:end], DY: train_dlabels[start:end], Dkeep_prob: 0.5})\n",
    "        \n",
    "    digitalepoch.append(i)\n",
    "    digitalaccuracy.append(Daccuracy.eval(session=sess2,feed_dict={DX: valid_digitals, DY: valid_dlabels, Dkeep_prob: 1.0}))\n"
   ]
  },
  {
   "cell_type": "code",
   "execution_count": 21,
   "metadata": {},
   "outputs": [],
   "source": [
    "picres = {'epoch':picepoch,'accuracy':picaccuracy}\n",
    "digitalres = {'epoch':digitalepoch,'accuracy':digitalaccuracy}"
   ]
  },
  {
   "cell_type": "code",
   "execution_count": 39,
   "metadata": {},
   "outputs": [
    {
     "data": {
      "image/png": "[encoded data removed]",
      "text/plain": [
       "<Figure size 1440x360 with 2 Axes>"
      ]
     },
     "metadata": {},
     "output_type": "display_data"
    }
   ],
   "source": [
    "df1 = pd.DataFrame(picres)\n",
    "df2 = pd.DataFrame(digitalres)\n",
    "fig = plt.figure()\n",
    "plt.rcParams['figure.figsize'] = (20, 5)\n",
    "ax1 = fig.add_subplot(1,2,1)\n",
    "ax2 = fig.add_subplot(1,2,2)\n",
    "ax1.plot(df1['epoch'], df1['accuracy'])\n",
    "ax1.set_xlabel('Epoches')\n",
    "ax1.set_ylabel('Accuracy')\n",
    "ax1.set_title('The accuracy result of picture indentify model')\n",
    "ax2.plot(df2['epoch'], df2['accuracy'])\n",
    "ax2.set_title('The accuracy result of digital indentify model')\n",
    "ax2.set_xlabel('Epoches')\n",
    "ax2.set_ylabel('Accuracy')\n",
    "plt.show()"
   ]
  },
  {
   "cell_type": "markdown",
   "metadata": {},
   "source": [
    "### Read the picture data"
   ]
  },
  {
   "cell_type": "code",
   "execution_count": 62,
   "metadata": {},
   "outputs": [],
   "source": [
    "imaget, labels = load_dataset(\"./data/preimg\",\"picture\")\n",
    "imaget = np.array(imaget)"
   ]
  },
  {
   "cell_type": "markdown",
   "metadata": {},
   "source": [
    "### Use the trained model to recognize the picture captcha"
   ]
  },
  {
   "cell_type": "markdown",
   "metadata": {},
   "source": [
    "<img style=\"float:left\" src=\"./data/img/imginput.jpg\" width=\"100%\">"
   ]
  },
  {
   "cell_type": "code",
   "execution_count": 64,
   "metadata": {},
   "outputs": [
    {
     "name": "stdout",
     "output_type": "stream",
     "text": [
      "['watch', 'camera', 'sunflower', 'watch', 'sunflower', 'camera']\n"
     ]
    }
   ],
   "source": [
    "predict = sess1.run(prediction,feed_dict={X: imaget,keep_prob: 1.0})\n",
    "print(outputres(predict))"
   ]
  },
  {
   "cell_type": "markdown",
   "metadata": {},
   "source": [
    "### Read the digital chatcha data"
   ]
  },
  {
   "cell_type": "code",
   "execution_count": 66,
   "metadata": {},
   "outputs": [
    {
     "data": {
      "text/plain": [
       "(4, 256)"
      ]
     },
     "execution_count": 66,
     "metadata": {},
     "output_type": "execute_result"
    }
   ],
   "source": [
    "targetimg = np.array(read_img(\"./data/preimg\",0))\n",
    "targetimg.shape"
   ]
  },
  {
   "cell_type": "markdown",
   "metadata": {},
   "source": [
    "### Use the trained model to recognize the digital captcha"
   ]
  },
  {
   "cell_type": "markdown",
   "metadata": {},
   "source": [
    "digit captcha input<img style=\"float:left\" src=\"./data/img/imginput2.bmp\" width=\"10%\">"
   ]
  },
  {
   "cell_type": "code",
   "execution_count": 68,
   "metadata": {},
   "outputs": [
    {
     "name": "stdout",
     "output_type": "stream",
     "text": [
      "[9 1 4 1]\n"
     ]
    }
   ],
   "source": [
    "Dpredict = sess2.run(Dprediction,feed_dict={DX: targetimg,Dkeep_prob: 1.0})\n",
    "print(Dpredict)"
   ]
  },
  {
   "cell_type": "markdown",
   "metadata": {},
   "source": [
    "## Conclusion\n",
    "The whole process of this machine learning project is truly interesting. Basically, it proves that our hypothesis is correct , convolutional neural network has an adequate feedback. Our CNN model’s accuracy is around 90%, we test it with real digital CAPTCHA and pictures, it can recognize the content successfully.\n",
    "This project also helps us go through the neural network model and many details. Convolutional neural network is suitable for the case that input contains too many dimensions, after the implement of convolution layer and max pool layer, the model would become more concise and readable. \n",
    "During our implementation of this project, we put a lot of effort into the improvement of model accuracy. We tried to reshape image in different size, change the network architecture, loss function, activation function, gradient estimation and parameter initialization, as a result, 4-5 hidden layers, cross entropy and Relu activation function, AdamOptimizer, Gaussian initialization serves as the best combinations in our test. This result also proves that our reasoning is supported by our test result.\n",
    "In the end, the data we collected are some pictures and they are highly similar to each other, which made our model fit for some certain styles picture, in the future scope, we want to collect more different pictures as input to make our model more reliable."
   ]
  },
  {
   "cell_type": "markdown",
   "metadata": {},
   "source": [
    "## License \n",
    "The text in the document by < Zhixin Wang, Jiamin Shang > is licensed under CC BY 3.0 https://creativecommons.org/licenses/by/3.0/us/<br>\n",
    "The code in the document by < Zhixin Wang, Jiamin Shang > is licensed under the MIT License https://opensource.org/licenses/MIT\n",
    "\n",
    "Permission is hereby granted, free of charge, to any person obtaining a copy of this software and associated documentation files (the \"Software\"), to deal in the Software without restriction, including without limitation the rights to use, copy, modify, merge, publish, distribute, sublicense, and/or sell copies of the Software, and to permit persons to whom the Software is furnished to do so, subject to the following conditions:\n",
    "\n",
    "The above copyright notice and this permission notice shall be included in all copies or substantial portions of the Software."
   ]
  },
  {
   "cell_type": "markdown",
   "metadata": {},
   "source": [
    "## Reference\n",
    "* Convolutional Neural Network for Visual Recognition:\n",
    "http://cs231n.github.io/convolutional-networks/\n",
    "\n",
    "* Image Segmentation: http://www.cnblogs.com/subconscious/p/4660952.html\n",
    "\n",
    "* Stanford University CS231n: Convolutional Neural Networks for Visual Recognition:\n",
    "http://cs231n.stanford.edu/project.html\n",
    "\n",
    "* CIFAR-10 - Object Recognition in Images: https://www.kaggle.com/c/cifar-10\n",
    "\n",
    "* ImageNet Classification with Deep Convolutional Neural Networks. Alex Krizhevsky. 2017"
   ]
  }
 ],
 "metadata": {
  "kernelspec": {
   "display_name": "Python 3",
   "language": "python",
   "name": "python3"
  },
  "language_info": {
   "codemirror_mode": {
    "name": "ipython",
    "version": 3
   },
   "file_extension": ".py",
   "mimetype": "text/x-python",
   "name": "python",
   "nbconvert_exporter": "python",
   "pygments_lexer": "ipython3",
   "version": "3.5.5"
  }
 },
 "nbformat": 4,
 "nbformat_minor": 2
}
